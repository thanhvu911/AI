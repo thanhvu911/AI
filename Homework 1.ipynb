{
 "cells": [
  {
   "cell_type": "markdown",
   "id": "f840deda",
   "metadata": {},
   "source": [
    "# Homework 1 Intro"
   ]
  },
  {
   "cell_type": "markdown",
   "id": "3b83b9f3",
   "metadata": {},
   "source": [
    "In this notebook, you will practice concepts from AIMA chapters 1-3. The main topics include:\n",
    "- History of Artificial Intelligence\n",
    "- Defining Intelligent Agents\n",
    "- Uninformed Search"
   ]
  },
  {
   "cell_type": "markdown",
   "id": "0aeed29d",
   "metadata": {},
   "source": [
    "You will write your conceptual answers and code into this notebook. You may include images, links, and math equations as you feel they are needed. I have included cells that suggest where to include your answers, but you can add more cells as needed to keep your work organized.\n",
    "\n",
    "When you are done with your assignment, make sure to reset your session and test that all of your code works properly when executed from top to bottom.\n",
    "\n",
    "You will submit this notebook on the Homework 1 assignment on Canvas.\n",
    "\n",
    "**A note on \"correctness\"**. As we have already discussed in class, there is no single correct way to solve a problem. Many of these questions are up to interpretation and I am not seeking a specific solution. As long as your solution meets the requirements mentioned in the rubric and problem description, I am less concerned about the details (i.e., I don't care exactly what data structure you use or what the exact outputs are)."
   ]
  },
  {
   "cell_type": "markdown",
   "id": "9a9db7a1",
   "metadata": {},
   "source": [
    " # Part 1: Conceptual Questions"
   ]
  },
  {
   "cell_type": "markdown",
   "id": "eb323fb6",
   "metadata": {},
   "source": [
    "For this part, write your answer in the corresponding cell for each question."
   ]
  },
  {
   "cell_type": "markdown",
   "id": "a7b1a382",
   "metadata": {},
   "source": [
    "## Question 1.1\n",
    "\n",
    "To what extent are the following computer systems instances of artificial intelligence?\n",
    "- Supermarket bar code scanners.\n",
    "- Voice-activated telephone menus.\n",
    "- Spelling and grammar correction features in Microsoft Word.\n",
    "- Internet routing algorithms that respond dynamically to the state of the network.\n",
    "\n",
    "In your answer, make sure you explicitly mention the terms and definitions we discussed in class. You may also propose an alternate definition of terms, but make sure you justify your answer. I expect you to write a short paragraph (3-6 sentences) for each system."
   ]
  },
  {
   "cell_type": "markdown",
   "id": "f99f5b31",
   "metadata": {},
   "source": [
    "*Double click and start writing your answer here*\n",
    "\n",
    "Supermarket barcode scanners aren't really AI because they function as simple reflex agents. They just scan codes with lasers and output product IDs without adapting to damaged codes. These devices do not possess any world model and do not learn from past experiences. They fail to meet our class definition for handling novel situations effectively. Although they mimic human label reading, their capabilities stop there — no reasoning beyond basic recognition. From my experience working at grocery stores, these are merely efficient tools rather than intelligent technology.\n",
    "\n",
    "Voice-activated telephone menus incorporate limited AI through speech recognition capabilities to direct calls. They function mostly as reflex agents designed for operational efficiency. These systems struggle when encountering unfamiliar accents, which contradict the criteria for novel situations. I consider these automated assistants rather than genuine artificial intelligence implementations.\n",
    "\n",
    "Microsoft Word's spelling and grammar correction features demonstrate actual AI characteristics because they employ models for analyzing text and proposing corrections. This technology operates as a model-based agent that perceives document content and acts to enhance accuracy. The system handles previously unseen sentences effectively. Grammar checking exceeds simple reflex functionality by evaluating contextual factors and linguistic rules, sometimes outperforming human proofreading speed and aligning with Lecture 1's concept of novel situations. Their ability to adapt to individual writing styles resembles that of a learning agent.\n",
    "\n",
    "Internet routing algorithms represent a strong AI implementation because they function like goal-based agents. They constantly monitor network conditions and redirect data traffic to prevent congestion. Such algorithms operate in dynamic environments; some versions even incorporate learning capabilities similar to utility-based agents. Their performance exceeds human capabilities in terms of speed and scalability, which connects to the optimization history discussed. While they might not qualify as AI under strictly human-like thinking definitions, their real-time intelligence qualifies them as artificial intelligence in my assessment.\n"
   ]
  },
  {
   "cell_type": "markdown",
   "id": "4cf96b5d",
   "metadata": {},
   "source": [
    "## Question 1.2"
   ]
  },
  {
   "cell_type": "markdown",
   "id": "a083a068",
   "metadata": {},
   "source": [
    "For one of the following activities, give a PEAS description of the task environment and characterize it in terms of the properties listed in AIMA Section 2.3. You only need to choose one activity!\n",
    "- Knitting a sweater\n",
    "- Exploring the oceans of Titan\n",
    "- Giving a class presentation about the structure of DNA"
   ]
  },
  {
   "cell_type": "markdown",
   "id": "936fa04f",
   "metadata": {},
   "source": [
    "There is no expected length for your answer to this question. Make sure you explain your reasoning for each characteristic (e.g., why is the environment fully/partially-observable?)."
   ]
  },
  {
   "cell_type": "markdown",
   "id": "0939bf08",
   "metadata": {},
   "source": [
    "*Start writing your answer here*\n",
    "PEAS\n",
    "\n",
    "Performance Measure: Success is determined by delivering clear information about DNA structure, maintaining student engagement, completing the presentation within the allocated time, and achieving positive assessment outcomes.\n",
    "\n",
    "Environment: A classroom setting containing students, projection equipment, and potential disruptions such as questions or technical difficulties.\n",
    "\n",
    "Actuators: Voice projection, physical gestures, and presentation slides serve as primary means for conveying information.\n",
    "\n",
    "Sensors: Visual observation of audience reactions and auditory reception of questions enable presentation adjustments.\n",
    "\n",
    "\n",
    "Characterization:\n",
    "\n",
    "Partially observable, since complete audience mental states and potential disruptions cannot be fully anticipated.\n",
    "\n",
    "Stochastic due to unpredictable variations in audience responses and possible technical malfunctions.\n",
    " \n",
    "Sequential because presentation components build progressively upon preceding information.\n",
    "\n",
    "Dynamic as interruptions may occur or attention focus might shift unexpectedly.\n",
    " \n",
    "Continuous, given varying presentation paces and interaction levels throughout.\n",
    " \n",
    "Single-agent, as the presenter operates independently."
   ]
  },
  {
   "cell_type": "markdown",
   "id": "0d462071",
   "metadata": {},
   "source": [
    "# Part 2: Coding Questions"
   ]
  },
  {
   "cell_type": "markdown",
   "id": "9ac8dc7b",
   "metadata": {},
   "source": [
    "Your solutions to the following problems should be written using the Python programming language."
   ]
  },
  {
   "cell_type": "markdown",
   "id": "8a693b24",
   "metadata": {},
   "source": [
    "## Question 2.1"
   ]
  },
  {
   "cell_type": "markdown",
   "id": "8a288225",
   "metadata": {},
   "source": [
    "For this question, you will implement a Simple Reflex Agent in the form of a text-based chatbot. The goal of your chatbot is to recommend what CPS course a student should take based on what courses they have taken and what their interests are. You can use the F&M [course catalog](https://catalog.fandm.edu/content.php?filter%5B27%5D=CPS&filter%5B29%5D=&filter%5Bkeyword%5D=&filter%5B32%5D=1&filter%5Bcpage%5D=1&cur_cat_oid=3&expand=&navoid=64&search_database=Filter#acalog_template_course_filter) to determine which classes are available or needed as prerequisites."
   ]
  },
  {
   "cell_type": "markdown",
   "id": "e4eb3b2d",
   "metadata": {},
   "source": [
    "The key steps of your solution will be:\n",
    "- **Interpreting user input**. Given text that the user writes, you must be able to identify specific keywords and match them with your rules.\n",
    "- **Developing recommendation rules**. Given the keyword(s) you identified, you should be able to match that to a recommendation.\n",
    "- **Interaction loop**. After choosing a recommendation, you need to appropriately format the output to display to the user. Your agent should continue to ask the user for input until they type `quit`."
   ]
  },
  {
   "cell_type": "markdown",
   "id": "37cd8488",
   "metadata": {},
   "source": [
    "I've included the outline of several functions to get you started. You may add additional functions as needed. To test your implementation, I will run the `start_chat()` function. If there are any rules (e.g. acceptable inputs) you want me to follow when interacting with your chatbot, make sure to include a write-up with your code."
   ]
  },
  {
   "cell_type": "markdown",
   "id": "13432f82",
   "metadata": {},
   "source": [
    "Input: Course taken: 1 or many cps course name (seperated by empty space)\n",
    "Interest : type the keyword\n",
    "Result It suggests the course you should take"
   ]
  },
  {
   "cell_type": "code",
   "execution_count": null,
   "id": "bb7d69b0",
   "metadata": {},
   "outputs": [],
   "source": [
    "def start_chat():\n",
    "    print(\"Welcome to the CPS Course Recommender! Tell me about your interests or courses taken (type 'quit' to exit).\")\n",
    "    chat_loop()\n",
    "    \n",
    "courses = {\n",
    "    \"CPS111\": {\"name\": \"Computer Science I\", \"reqs\": [], \"tags\": [\"programming\"]},\n",
    "    \"CPS112\": {\"name\": \"Computer Science II\", \"reqs\": [\"CPS111\"], \"tags\": [\"programming\"]},\n",
    "    \"CPS222\": {\"name\": \"Computer Science III\", \"reqs\": [\"CPS112\"], \"tags\": [\"programming\"]},\n",
    "    \"CPS237\": {\"name\": \"Computational Discrete Mathematics\", \"reqs\": [\"CPS111\"], \"tags\": [\"math\"]},\n",
    "    \"CPS242\": {\"name\": \"Computer Organization\", \"reqs\": [\"CPS112\"], \"tags\": [\"hardware\"]},\n",
    "    \"CPS261\": {\"name\": \"Algorithms\", \"reqs\": [\"CPS112\", \"CPS237\"], \"tags\": [\"algorithms\"]},\n",
    "    \"CPS337\": {\"name\": \"Theory of Computer Science\", \"reqs\": [\"CPS112\", \"CPS237\"], \"tags\": [\"theory\"]},\n",
    "    \"CPS338\": {\"name\": \"Computational Mathematics\", \"reqs\": [\"CPS111\"], \"tags\": [\"math\"]},\n",
    "    \"CPS340\": {\"name\": \"Mobile Application Development\", \"reqs\": [\"CPS222\"], \"tags\": [\"mobile\"]},\n",
    "    \"CPS342\": {\"name\": \"Operating Systems\", \"reqs\": [\"CPS242\"], \"tags\": [\"os\"]},\n",
    "    \"CPS344\": {\"name\": \"Computer Networks\", \"reqs\": [\"CPS242\"], \"tags\": [\"networks\"]},\n",
    "    \"CPS346\": {\"name\": \"Parallel Computing\", \"reqs\": [\"CPS222\"], \"tags\": [\"parallel\"]},\n",
    "    \"CPS360\": {\"name\": \"Introduction to Machine Learning\", \"reqs\": [\"CPS222\"], \"tags\": [\"ml\", \"data\"]},\n",
    "    \"CPS363\": {\"name\": \"Introduction to Bioinformatics\", \"reqs\": [\"CPS222\"], \"tags\": [\"bio\"]},\n",
    "    \"CPS367\": {\"name\": \"Artificial Intelligence\", \"reqs\": [\"CPS222\", \"CPS237\"], \"tags\": [\"ai\"]},\n",
    "}\n",
    "\n",
    "def extract_keywords(text):\n",
    "    text = text.lower()\n",
    "    keywords = []\n",
    "    \n",
    "    # check for common terms\n",
    "    keyword_map = {\n",
    "        \"programming\": [\"programming\", \"coding\", \"code\"],\n",
    "        \"ai\": [\"ai\", \"artificial intelligence\"],\n",
    "        \"data\": [\"data\", \"analytics\"],\n",
    "        \"math\": [\"math\", \"mathematics\"],\n",
    "        \"algorithms\": [\"algorithms\", \"algorithm\"],\n",
    "        \"ml\": [\"ml\", \"machine learning\"],\n",
    "        \"bio\": [\"bio\", \"bioinformatics\"],\n",
    "        \"networks\": [\"networks\", \"networking\"],\n",
    "        \"os\": [\"os\", \"operating systems\"],\n",
    "        \"parallel\": [\"parallel\", \"concurrent\"],\n",
    "        \"mobile\": [\"mobile\", \"app\"],\n",
    "        \"theory\": [\"theory\", \"theoretical\"],\n",
    "        \"hardware\": [\"hardware\", \"computer organization\"]\n",
    "    }\n",
    "    \n",
    "    for tag, terms in keyword_map.items():\n",
    "        if any(term in text for term in terms):\n",
    "            keywords.append(tag)\n",
    "    \n",
    "    return keywords\n",
    "\n",
    "def decide_action(keywords, completed_courses):\n",
    "    # find matching courses first\n",
    "    for course_id, course_info in courses.items():\n",
    "        if course_id in completed_courses:\n",
    "            continue\n",
    "            \n",
    "        # check if course matches interests https://stackoverflow.com/questions/12229064/mapping-over-values-in-a-python-dictionary\n",
    "        has_match = any(tag in course_info[\"tags\"] for tag in keywords)\n",
    "        if not has_match:\n",
    "            continue\n",
    "            \n",
    "        # check prerequisites\n",
    "        prereqs_met = all(req in completed_courses for req in course_info[\"reqs\"])\n",
    "        if prereqs_met:\n",
    "            return f\"{course_id} - {course_info['name']}\"\n",
    "    \n",
    "    # fallback: find any available course\n",
    "    for course_id, course_info in courses.items():\n",
    "        if course_id not in completed_courses:\n",
    "            prereqs_met = all(req in completed_courses for req in course_info[\"reqs\"])\n",
    "            if prereqs_met:\n",
    "                return f\"{course_id} - {course_info['name']}\"\n",
    "    \n",
    "    return \"CPS111 - Computer Science I\"\n",
    "\n",
    "def format_output(recommendation):\n",
    "    return f\"I'd recommend: {recommendation}. Want another suggestion?\"\n",
    "\n",
    "def chat_loop():\n",
    "    while True:\n",
    "        # get completed courses\n",
    "        while True:\n",
    "            print(\"What courses have you already taken? (format: CPS111 CPS112 etc.)\")\n",
    "            user_input = input().strip().upper()\n",
    "            \n",
    "            if user_input == 'QUIT':\n",
    "                print(\"Thanks for using the recommender!\")\n",
    "                return\n",
    "                \n",
    "            if not user_input:\n",
    "                completed = []\n",
    "                break\n",
    "                \n",
    "            course_list = user_input.split()\n",
    "            completed = []\n",
    "            invalid = False\n",
    "            \n",
    "            for course in course_list:\n",
    "                if course in courses:\n",
    "                    completed.append(course)\n",
    "                elif course:  # not empty but invalid\n",
    "                    print(f\"'{course}' isn't a valid course code. Try again.\")\n",
    "                    invalid = True\n",
    "                    break\n",
    "                    \n",
    "            if not invalid:\n",
    "                break\n",
    "        \n",
    "        # get interests\n",
    "        while True:\n",
    "            print(\"What topics interest you?\")\n",
    "            interests = input().strip()\n",
    "            \n",
    "            if interests.upper() == 'QUIT':\n",
    "                print(\"Thanks for using the recommender!\")\n",
    "                return\n",
    "                \n",
    "            found_keywords = extract_keywords(interests)\n",
    "            if found_keywords:\n",
    "                break\n",
    "            else:\n",
    "                print(\"Hmm, try mentioning things like 'programming', 'AI', 'data science', etc.\")\n",
    "        \n",
    "        recommendation = decide_action(found_keywords, completed)\n",
    "        print(format_output(recommendation))\n",
    "        print()  # spacing"
   ]
  },
  {
   "cell_type": "code",
   "execution_count": 12,
   "id": "aa23507e",
   "metadata": {},
   "outputs": [
    {
     "name": "stdout",
     "output_type": "stream",
     "text": [
      "Welcome to the CPS Course Recommender! Tell me about your interests or courses taken (type 'quit' to exit).\n",
      "What courses have you already taken? (format: CPS111 CPS112 etc.)\n",
      "'COS1' isn't a valid course code. Try again.\n",
      "What courses have you already taken? (format: CPS111 CPS112 etc.)\n",
      "What topics interest you?\n",
      "I'd recommend: CPS237 - Computational Discrete Mathematics. Want another suggestion?\n",
      "\n",
      "What courses have you already taken? (format: CPS111 CPS112 etc.)\n",
      "Thanks for using the recommender!\n"
     ]
    }
   ],
   "source": [
    "# DO NOT CHANGE THIS CELL\n",
    "# I WILL RUN THIS CELL TO TEST THE CODE YOU WROTE ABOVE\n",
    "\n",
    "start_chat()"
   ]
  },
  {
   "cell_type": "markdown",
   "id": "2d0f888c",
   "metadata": {},
   "source": [
    "*write any notes or instructions about your system here*"
   ]
  },
  {
   "cell_type": "markdown",
   "id": "4ff6df5b",
   "metadata": {},
   "source": [
    "**Extra Credit Opportunity**: To make your course recommendation agent more \"intelligent\", try developing more nuanced rules. For example, you could add an action that asks a follow-up question or uses other information to decide between two similar courses. I will award up to 10 extra credit points based on how deeply you interact with this activity."
   ]
  },
  {
   "cell_type": "code",
   "execution_count": null,
   "id": "f2ce1bfb",
   "metadata": {},
   "outputs": [],
   "source": [
    "# your solution here!"
   ]
  },
  {
   "cell_type": "markdown",
   "id": "c1dde6fa",
   "metadata": {},
   "source": [
    "## Question 2.2"
   ]
  },
  {
   "cell_type": "markdown",
   "id": "fb818230",
   "metadata": {},
   "source": [
    "For this question, you will implement two versions of Best-First Search on a physical map of your choice. The goal of search is to find a path between the start and goal locations on your map. This is similar to the map of Romania we have been using in class, but I want you to choose/develop a new map that has a different connection structure."
   ]
  },
  {
   "cell_type": "markdown",
   "id": "0e7d3250",
   "metadata": {},
   "source": [
    "The key steps of your solution are:\n",
    "- **Develop a map**. This can be in a location of your choosing. Maybe it's the Lancaster County area, or a set of stars in our galaxy. Whatever you choose, do some research to identify at least 20 locations and appropriate connections between them.\n",
    "- **Implement two algorithms.** You can choose two of the uninformed search algorithms we learned in class. You can organize your code in whatever way makes sense for you as long as it is easy to read. In addition to returning success or failure of the search algorithm, your code should print the solution path if it is found. You may choose from the following algorithms:\n",
    "    + Breadth-First Search\n",
    "    + Uniform-Cost Search (Dijkstra's algorithm)\n",
    "    + Depth-First Search OR Depth-Limited Search OR Iterative Deepening Search (you must also choose one of the others)\n",
    "- **Test your algorithms.** You will examine the behavior of your algorithms by testing them on three different (start, goal) configurations. That is, your code should run (2 algorithms) x (3 configurations) = 6 total searches.\n",
    "\n",
    "\n",
    "I will run the `run_search()` function to test your code. You may implement the rest of the question however you wish."
   ]
  },
  {
   "cell_type": "markdown",
   "id": "8a71d894",
   "metadata": {},
   "source": [
    "*write about your map here* - tell me where you got your information from and maybe include a picture!"
   ]
  },
  {
   "attachments": {
    "image.png": {
     "image/png": "[encoded data removed]"
    }
   },
   "cell_type": "markdown",
   "id": "caf0953a",
   "metadata": {},
   "source": [
    "Link: https://courses.cs.washington.edu/courses/cse415/19au/assign/A3.html\n",
    "![image.png](attachment:image.png)"
   ]
  },
  {
   "cell_type": "code",
   "execution_count": null,
   "id": "a4c002a8",
   "metadata": {},
   "outputs": [],
   "source": [
    "# your solution goes here! You can add additional cells as needed\n",
    "\n",
    "def run_search():\n",
    "    \"\"\"Runs simulations of 2 algorithms and 3 start/goal configurations\n",
    "       Parameters: none\n",
    "       Returns: none\n",
    "       This can call other functions as needed\"\"\"\n",
    "    \n",
    "    # your code here\n",
    "    # French cities - distances in km\n",
    "    graph = {\n",
    "        'Brest': {'Rennes': 244},\n",
    "        'Rennes': {'Brest': 244, 'Nantes': 107, 'Paris': 348, 'Caen': 176},\n",
    "        'Nantes': {'Rennes': 107, 'Limoges': 329},\n",
    "        'Limoges': {'Nantes': 329, 'Bordeaux': 220, 'Lyon': 396},\n",
    "        'Bordeaux': {'Limoges': 220, 'Toulouse': 253},\n",
    "        'Toulouse': {'Bordeaux': 253, 'Montpellier': 240},\n",
    "        'Montpellier': {'Toulouse': 240, 'Marseille': 169, 'Avignon': 121},\n",
    "        'Marseille': {'Montpellier': 169, 'Nice': 188, 'Avignon': 99},\n",
    "        'Nice': {'Marseille': 188},\n",
    "        'Avignon': {'Marseille': 99, 'Grenoble': 227, 'Montpellier': 121},\n",
    "        'Grenoble': {'Avignon': 227, 'Lyon': 104},\n",
    "        'Lyon': {'Grenoble': 104, 'Dijon': 192, 'Limoges': 396},\n",
    "        'Dijon': {'Lyon': 192, 'Nancy': 201, 'Paris': 313, 'Strasbourg': 335},\n",
    "        'Nancy': {'Dijon': 201, 'Paris': 372, 'Strasbourg': 145},\n",
    "        'Paris': {'Nancy': 372, 'Rennes': 348, 'Caen': 241, 'Strasbourg': 534, 'Dijon': 313},\n",
    "        'Caen': {'Paris': 241, 'Rennes': 176, 'Calais': 120},\n",
    "        'Calais': {'Caen': 120},\n",
    "        'Strasbourg': {'Paris': 534, 'Nancy': 145, 'Dijon': 335},\n",
    "    }\n",
    "\n",
    "    #https://www.geeksforgeeks.org/artificial-intelligence/uniformed-search-algorithms-in-ai/\n",
    "    def ucs(start, goal):\n",
    "        # just using a list and sorting - not fancy but works\n",
    "        open_list = [(0, start, [start])]\n",
    "        closed = set()\n",
    "        \n",
    "        while open_list:\n",
    "            open_list.sort()  # yeah this is O(n log n) but whatever\n",
    "            cost, node, path = open_list.pop(0)\n",
    "            \n",
    "            if node in closed:\n",
    "                continue\n",
    "            closed.add(node)\n",
    "            \n",
    "            if node == goal:\n",
    "                return path, cost\n",
    "                \n",
    "            for neighbor, dist in graph.get(node, {}).items():\n",
    "                if neighbor not in closed:\n",
    "                    open_list.append((cost + dist, neighbor, path + [neighbor]))\n",
    "        return [], 0\n",
    "    \n",
    "    # https://www.geeksforgeeks.org/dsa/breadth-first-search-or-bfs-for-a-graph/\n",
    "    def bfs(start, goal):\n",
    "        q = [(start, [start])]\n",
    "        visited = {start}\n",
    "        \n",
    "        while q:\n",
    "            curr, path = q.pop(0)\n",
    "            if curr == goal:\n",
    "                # calc cost\n",
    "                total = 0\n",
    "                for i in range(len(path) - 1):\n",
    "                    total += graph[path[i]][path[i+1]]\n",
    "                return path, total\n",
    "                \n",
    "            for next_city in graph.get(curr, {}):\n",
    "                if next_city not in visited:\n",
    "                    visited.add(next_city)\n",
    "                    q.append((next_city, path + [next_city]))\n",
    "        return [], 0\n",
    "\n",
    "    # test cases\n",
    "    tests = [('Brest', 'Nice'), ('Caen', 'Strasbourg'), ('Bordeaux', 'Calais')]\n",
    "    \n",
    "    print(\"UCS Results:\")\n",
    "    for s, g in tests:\n",
    "        path, cost = ucs(s, g)\n",
    "        print(f\"{s} -> {g}: {' -> '.join(path)} ({cost} km)\")\n",
    "    \n",
    "    print(\"\\nBFS Results:\")  \n",
    "    for s, g in tests:\n",
    "        path, cost = bfs(s, g)\n",
    "        print(f\"{s} -> {g}: {' -> '.join(path)} ({cost} km)\")"
   ]
  },
  {
   "cell_type": "code",
   "execution_count": 25,
   "id": "b7653aa3",
   "metadata": {},
   "outputs": [
    {
     "name": "stdout",
     "output_type": "stream",
     "text": [
      "UCS Results:\n",
      "Brest -> Nice: Brest -> Rennes -> Nantes -> Limoges -> Lyon -> Grenoble -> Avignon -> Marseille -> Nice (1694 km)\n",
      "Caen -> Strasbourg: Caen -> Paris -> Nancy -> Strasbourg (758 km)\n",
      "Bordeaux -> Calais: Bordeaux -> Limoges -> Nantes -> Rennes -> Caen -> Calais (952 km)\n",
      "\n",
      "BFS Results:\n",
      "Brest -> Nice: Brest -> Rennes -> Nantes -> Limoges -> Bordeaux -> Toulouse -> Montpellier -> Marseille -> Nice (1750 km)\n",
      "Caen -> Strasbourg: Caen -> Paris -> Strasbourg (775 km)\n",
      "Bordeaux -> Calais: Bordeaux -> Limoges -> Nantes -> Rennes -> Caen -> Calais (952 km)\n"
     ]
    }
   ],
   "source": [
    "# DO NOT CHANGE THIS CELL\n",
    "# I WILL RUN THIS CELL TO TEST THE CODE YOU WROTE ABOVE\n",
    "\n",
    "run_search()"
   ]
  },
  {
   "cell_type": "markdown",
   "id": "7c71084f",
   "metadata": {},
   "source": [
    "**Extra Credit Opportunity**: Apply the concepts we learned in class to evaluate the performance of your algorithms. What properties of the map lead to different behaviors? Why might one algorithm work \"better\" than the others? I will assign up to 5 extra credit points based on how deeply you engage with the analysis."
   ]
  },
  {
   "cell_type": "markdown",
   "id": "c5a6cabb",
   "metadata": {},
   "source": [
    "*your thoughts here*"
   ]
  },
  {
   "cell_type": "markdown",
   "id": "84141292",
   "metadata": {},
   "source": [
    "The map properties that create algorithm differences include non-uniform edge weights, with routes varying significantly between cities. BFS incorrectly treats all connections equally (unit cost), optimizing for minimum hops. UCS properly accounts for actual distances, finding truly minimal total distance even when requiring additional stops.\n",
    "Alternative paths with different trade-offs exist because the graph shows dense connectivity in central regions but sparser connections elsewhere. This creates situations where fewer-hop routes can actually have higher total distances. As a result, BFS often selects \"direct but costlier\" routes.\n",
    "\n",
    "The algorithms show expansion-order sensitivity. BFS path selection depends on neighbor-listing order in the dictionary. This explains why, during the Brest–Nice calculation, BFS detoured southward because Bordeaux was processed before Lyon. UCS remains order-independent for final cost calculation due to priority-based processing.\n",
    "The graph structure lacks cycles and contains undirected edges, making it bidirectional but effectively acyclic for practical paths. Central hub cities like Paris enable UCS to find shortcuts that BFS misses when focusing solely on hop minimization.\n",
    "\n",
    "UCS proves superior for minimal distance (our real-world objective) because it guarantees optimality when calculating actual kilometers traveled. UCS is complete and optimal for non-negative weights. It \"works better\" by saving 56 kilometers on the Brest–Nice route and 17 kilometers for Caen–Strasbourg compared to BFS.\n",
    "\n",
    "BFS would be preferable when minimizing city transfers or stops, as it achieves optimality for unweighted graphs as discussed in Lecture 3. It also offers computational-efficiency advantages in large graphs by avoiding the sorting overhead of UCS.\n",
    "\n",
    "In this variable-weight map with multiple route alternatives, UCS excels at cost optimization similar to GPS applications, while BFS better suits hop minimization like network routing with uniform connection costs.\n"
   ]
  }
 ],
 "metadata": {
  "kernelspec": {
   "display_name": "base",
   "language": "python",
   "name": "python3"
  },
  "language_info": {
   "codemirror_mode": {
    "name": "ipython",
    "version": 3
   },
   "file_extension": ".py",
   "mimetype": "text/x-python",
   "name": "python",
   "nbconvert_exporter": "python",
   "pygments_lexer": "ipython3",
   "version": "3.12.4"
  }
 },
 "nbformat": 4,
 "nbformat_minor": 5
}
