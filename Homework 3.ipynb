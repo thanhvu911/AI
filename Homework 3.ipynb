{
 "cells": [
  {
   "cell_type": "markdown",
   "id": "20ce7ccd",
   "metadata": {},
   "source": [
    "# Homework 3 Intro"
   ]
  },
  {
   "cell_type": "markdown",
   "id": "26faf773",
   "metadata": {},
   "source": [
    "In this notebook, you will practice concepts from AIMA chapters 7, 8, and 9. The main topics include:\n",
    "- Propositional Logic\n",
    "- First-Order Logic\n",
    "- Inference (Forward Chaining and Resolution)"
   ]
  },
  {
   "cell_type": "markdown",
   "id": "60a4f8e4",
   "metadata": {},
   "source": [
    "You will write your conceptual answers and code into this notebook. You may include images, links, and math equations as you feel they are needed. I have included cells that suggest where to include your answers, but you can add more cells as needed to keep your work organized.\n",
    "\n",
    "When you are done with your assignment, make sure to reset your session and test that all of your code works properly when executed from top to bottom.\n",
    "\n",
    "You will submit this notebook and any accompanying files on the Homework 3 assignment on Canvas.\n",
    "\n",
    "**A note on \"correctness\"**. As we have already discussed in class, there is no single correct way to solve a problem. Many of these questions are up to interpretation and I am not seeking a specific solution. As long as your solution meets the requirements mentioned in the rubric and problem description, I am less concerned about the details (i.e., I don't care exactly what data structure you use or what the exact outputs are)."
   ]
  },
  {
   "cell_type": "markdown",
   "id": "5192f389",
   "metadata": {},
   "source": [
    " # Part 1: Conceptual Questions"
   ]
  },
  {
   "cell_type": "markdown",
   "id": "f38cc32a",
   "metadata": {},
   "source": [
    "For this part, write your answer in the corresponding cell for each question. Your answers should be written in complete sentences and edited for grammar and spelling."
   ]
  },
  {
   "cell_type": "markdown",
   "id": "99514898",
   "metadata": {},
   "source": [
    "## Question 1.1\n",
    "\n",
    "Give two examples of sentences that are valid in First-Order Logic but cannot be expressed in Propositional Logic. For each sentence, explain why it cannot be expressed using Propositional Logic. Please create your own examples rather than using ones we discussed in class."
   ]
  },
  {
   "cell_type": "markdown",
   "id": "598b5923",
   "metadata": {},
   "source": [
    "*Double click and start writing your answer here*\n",
    "\n",
    "You can add additional markdown cells as needed.\n",
    "\n",
    "1. All students in the class are intelligent. It's first-order logic because this statement uses the universal quantifier (All) which allows us to make a general statement about all objects in the domain that are students in the class. It cannot be expressed in Propositional Logic because we would need to enumerate every individual student and create separate atomic propositions for each one which is impractical and fails to capture the universal generalization\n",
    "\n",
    "2. There exists at least one student who failed the class. It's first-order logic because this statement uses the existential quantifier. It cannot be expressed in Propositional Logic because we would need separate propositional variable for every possible student without referring to sets which is impossible."
   ]
  },
  {
   "cell_type": "markdown",
   "id": "e0e5cbf9",
   "metadata": {},
   "source": [
    "## Question 1.2"
   ]
  },
  {
   "cell_type": "markdown",
   "id": "ac4eae4a",
   "metadata": {},
   "source": [
    "For this question, you will practice constructing a Knowledge Base and use Resolution to infer two different queries. Your answer should include the following elements, organized in a way that makes sense to you.\n",
    "- Choose a topic domain that is interesting to you - sports, music, fashion, or something else.\n",
    "- Create and write a knowledge base with at least three *facts* (symbols that are True/False) and at least 4 *rules* (sentences). See Lecture 11 for some examples.\n",
    "- Choose two queries to investigate using Resolution. One query should be decidable (you should be able to determine if it is True or False). The other query should be undecidable (you cannot conclude if it is True or False)\n",
    "- For each query, show the steps of the Resolution algorithm."
   ]
  },
  {
   "cell_type": "markdown",
   "id": "a7c598eb",
   "metadata": {},
   "source": [
    "This question will be graded on *accuracy* as well as *readability*. That is, this is an opportunity for you to practice typing out professional equations. You can refer [here](https://www.overleaf.com/learn/latex/Mathematical_expressions) for the basics of typsetting in $\\LaTeX$. I have also included some (meaningless) equations below with most of the symbols you might need. If you double click this cell, you will be able to see the code that generated it and copy it into your own solution.\n",
    "\n",
    "$A_1(x) \\vee B_{subscript} \\wedge \\neg C^{exponent} \\rightarrow Q$\n",
    "\n",
    "$\\text{Clause} \\leftarrow \\{x / Alice \\}$"
   ]
  },
  {
   "cell_type": "markdown",
   "id": "fbb8af75",
   "metadata": {},
   "source": [
    "*Start writing your answer here*\n",
    "\n",
    "You can add additional markdown cells as needed.\n",
    "Homework 3 Solution\n",
    "\n",
    "Facts:\n",
    "\n",
    "$Plays(Soccer, TeamA) = True$\n",
    "\n",
    "$Wins(TeamA) = True$\n",
    "\n",
    "$Injured(PlayerX) = True$\n",
    "\n",
    "Rules:\n",
    "\n",
    "$Plays(Soccer, TeamA) \\rightarrow Competitive(TeamA)$\n",
    "\n",
    "$Wins(TeamA) \\rightarrow Qualifies(TeamA)$\n",
    "\n",
    "$Competitive(TeamA) \\wedge Qualifies(TeamA) \\rightarrow Advances(TeamA)$\n",
    "\n",
    "$Injured(PlayerX) \\rightarrow SitsOut(PlayerX)$\n",
    "\n",
    "Queries:\n",
    "\n",
    "Decidable: $Advances(TeamA)$ (True)\n",
    "\n",
    "Undecidable: $Wins(TeamB)$ (cannot conclude)\n",
    "\n",
    "Resolution for Decidable Query: $Advances(TeamA)$\n",
    "\n",
    "CNF Clauses:\n",
    "\n",
    "1. $Plays(Soccer, TeamA)$\n",
    "\n",
    "2. $Wins(TeamA)$\n",
    "\n",
    "3. $Injured(PlayerX)$\n",
    "\n",
    "4. $\\neg Plays(Soccer, TeamA) \\vee Competitive(TeamA)$\n",
    "\n",
    "5. $\\neg Wins(TeamA) \\vee Qualifies(TeamA)$\n",
    "\n",
    "6. $\\neg Competitive(TeamA) \\vee \\neg Qualifies(TeamA) \\vee Advances(TeamA)$\n",
    "\n",
    "7. $\\neg Injured(PlayerX) \\vee SitsOut(PlayerX)$\n",
    "\n",
    "\n",
    "Decidable. Add $\\neg Advances(TeamA)$\n",
    "\n",
    "Steps:\n",
    "\n",
    "Resolve 1 with 4 $\\rightarrow Competitive(TeamA)$\n",
    "\n",
    "Resolve 2 with 5 $\\rightarrow Qualifies(TeamA)$\n",
    "\n",
    "Resolve $Competitive(TeamA)$ with 6 $\\rightarrow \\neg Qualifies(TeamA) \\vee Advances(TeamA)$\n",
    "\n",
    "Resolve $Qualifies(TeamA)$ with above $\\rightarrow Advances(TeamA)$\n",
    "\n",
    "Resolve $Advances(TeamA)$ with $\\neg Advances(TeamA)$ $\\rightarrow \\emptyset$ (contradiction, so True)\n",
    "\n",
    "\n",
    "Undecidable. Resolution for Undecidable Query: $Wins(TeamB)$\n",
    "\n",
    "Add $\\neg Wins(TeamB)$\n",
    "\n",
    "No clauses mention $Wins(TeamB)$. No resolutions lead to contradiction.\n",
    "\n",
    "Add $Wins(TeamB)$ for negation check: no contradiction. Undecidable."
   ]
  },
  {
   "cell_type": "markdown",
   "id": "f31408c8",
   "metadata": {},
   "source": [
    "# Part 2: Coding Question"
   ]
  },
  {
   "cell_type": "markdown",
   "id": "ce68c559",
   "metadata": {},
   "source": [
    "Your solution to the following problem should be written using the Python programming language."
   ]
  },
  {
   "cell_type": "markdown",
   "id": "1d00fba7",
   "metadata": {},
   "source": [
    "**I expect you to use base Python to solve this section.** That is, you should be able to do this without using any fancy functions or external libraries. If you are not sure if something is allowed, please ask me! I am available before/after class, via email, and during office hours."
   ]
  },
  {
   "cell_type": "markdown",
   "id": "abf6e640",
   "metadata": {},
   "source": [
    "## Question 2.1"
   ]
  },
  {
   "cell_type": "markdown",
   "id": "ca4614e0",
   "metadata": {},
   "source": [
    "For this problem, you will implement the Forward Chaining algorithm for Propositional Logic. The main steps of the algorithm should be implemented in the provided `forward_chaining()` function, though you may write additional helper functions. Please use the following data structures:\n",
    "\n",
    "**Knowledge Base representation**:\n",
    "- `KnowledgeBase`: a dictionary where the keys are `facts` and `rules`. \n",
    "- `facts`: a set `{ }` that contains all the symbols known to be True. We will follow the Closed-World Assumption that anything not proven to be True is assumed to be False.\n",
    "- `rules`: a list where each element is a clause.\n",
    "- Each clause a tuple of the form `({set of premise symbols}, conclusion symbol)`. That is, the clause $P_1 \\wedge P_2 \\wedge P_3 \\rightarrow Q$ would be represented as `({\"P1\", \"P2\", \"P3\"}, \"Q\")`.\n",
    "- each symbol can be represented by a string"
   ]
  },
  {
   "cell_type": "markdown",
   "id": "c798694e",
   "metadata": {},
   "source": [
    "An example of a Knowledge Base might be:\n",
    "\n",
    "```python\n",
    "KB = {\n",
    "    'facts': {'A', 'B'},\n",
    "    'rules': [\n",
    "        ({'A'}, 'C'),          # A ⇒ C (index 0)\n",
    "        ({'A', 'B'}, 'D'),     # A ∧ B ⇒ D (index 1)\n",
    "        ({'C'}, 'E')           # C ⇒ E (index 2)\n",
    "    ]\n",
    "}\n",
    "```"
   ]
  },
  {
   "cell_type": "markdown",
   "id": "b768f5e4",
   "metadata": {},
   "source": [
    "**Algorithm data structures**:\n",
    "- `count`: a dictionary where the key is the index of a clause in the `rules` list and the value is the number of symbols in the premise that still need to be inferred.\n",
    "- `inferred`: a dictionary where the key is a symbol and the value is a boolean that represents whether or not that symbol has been inferred to be True.\n",
    "- `queue`: a list where each element is a symbol to check. Relevant functions include `pop()` (what input would get you the first value?) and `append()`."
   ]
  },
  {
   "cell_type": "code",
   "execution_count": null,
   "id": "034d0b5f",
   "metadata": {},
   "outputs": [],
   "source": [
    "def forward_chaining(KB, query):\n",
    "    \"\"\"Implements forward chaining inference algorithm.\n",
    "       Inputs: KB (knowledge base)\n",
    "               query (a symbol to determine truth value)\n",
    "       Returns: query_result (True = verified, False = couldn't verify)\"\"\"\n",
    "\n",
    "    # your code here!\n",
    "    count = {}\n",
    "    for i, rule in enumerate(KB['rules']):\n",
    "        premises, conclusion = rule\n",
    "        count[i] = len(premises)\n",
    "\n",
    "    # Make inferred table - start everything as False\n",
    "    inferred = {}\n",
    "    symbols = set(KB['facts'])\n",
    "    \n",
    "    # Get all symbols from facts and rules\n",
    "    for rule in KB['rules']:\n",
    "        premises, conclusion = rule\n",
    "        symbols.update(premises)\n",
    "        symbols.add(conclusion)\n",
    "    \n",
    "    # Set all symbols to False in inferred table\n",
    "    for symbol in symbols:\n",
    "        inferred[symbol] = False\n",
    "    \n",
    "    # Make queue with known facts\n",
    "    q = list(KB['facts'])\n",
    "    \n",
    "    while q:\n",
    "        # Get next symbol from queue\n",
    "        p = q.pop(0)\n",
    "        \n",
    "        # Correct conclusion\n",
    "        if p == query:\n",
    "            return True\n",
    "        \n",
    "        if not inferred[p]:\n",
    "            inferred[p] = True\n",
    "\n",
    "            # Check all rules\n",
    "            for i, (premises, conclusion) in enumerate(KB['rules']):\n",
    "                if p in premises:\n",
    "                    count[i] -= 1\n",
    "                    if count[i] == 0:\n",
    "                        q.append(conclusion)\n",
    "                        \n",
    "    # check if query is in inferred table\n",
    "    if query in inferred:\n",
    "        query_result = inferred[query]\n",
    "    else:\n",
    "        query_result = False\n",
    "    return query_result"
   ]
  },
  {
   "cell_type": "markdown",
   "id": "7c79b114",
   "metadata": {},
   "source": [
    "## Question 2.2"
   ]
  },
  {
   "cell_type": "markdown",
   "id": "6fdbaad3",
   "metadata": {},
   "source": [
    "It's time to check your forward chaining algorithm by implementing the knowledge base you developed in Question 1.2! Using the code you wrote in the last part, write out the facts and rules you designed. Then, use the `forward_chaining()` function to try proving the two queries you wrote out by hand. I am not providing much structure here, I will leave it up to you to decide how to format your experiment."
   ]
  },
  {
   "cell_type": "code",
   "execution_count": 16,
   "id": "ee4dee96",
   "metadata": {},
   "outputs": [
    {
     "name": "stdout",
     "output_type": "stream",
     "text": [
      "True\n",
      "False\n"
     ]
    }
   ],
   "source": [
    "# your code here!\n",
    "KB = {\n",
    "    'facts': {'Plays(Soccer, TeamA)', 'Wins(TeamA)', 'Injured(PlayerX)'},\n",
    "    'rules': [\n",
    "        ({'Plays(Soccer, TeamA)'}, 'Competitive(TeamA)'),\n",
    "        ({'Wins(TeamA)'}, 'Qualifies(TeamA)'),\n",
    "        ({'Competitive(TeamA)', 'Qualifies(TeamA)'}, 'Advances(TeamA)'),\n",
    "        ({'Injured(PlayerX)'}, 'SitsOut(PlayerX)')\n",
    "    ]\n",
    "}\n",
    "\n",
    "print(forward_chaining(KB, 'Advances(TeamA)'))  # True\n",
    "print(forward_chaining(KB, 'Wins(TeamB)'))  # False"
   ]
  },
  {
   "cell_type": "markdown",
   "id": "6447de81",
   "metadata": {},
   "source": [
    "# Extra Credit"
   ]
  },
  {
   "cell_type": "markdown",
   "id": "08732833",
   "metadata": {},
   "source": [
    "For up to 10 extra credit points, write some code that will take a propositional logic sentence as a string and convert it into CNF. You can assume that all propositions are single letters. For example, `\"P or Q -> R\"` should get converted to `\"not P and not Q or R\"` I will not provide any additional structure here, it's up to you to decide how you want to interpret and tackle the problem."
   ]
  }
 ],
 "metadata": {
  "kernelspec": {
   "display_name": "base",
   "language": "python",
   "name": "python3"
  },
  "language_info": {
   "codemirror_mode": {
    "name": "ipython",
    "version": 3
   },
   "file_extension": ".py",
   "mimetype": "text/x-python",
   "name": "python",
   "nbconvert_exporter": "python",
   "pygments_lexer": "ipython3",
   "version": "3.12.4"
  }
 },
 "nbformat": 4,
 "nbformat_minor": 5
}
